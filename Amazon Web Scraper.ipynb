{
 "cells": [
  {
   "cell_type": "code",
   "execution_count": 2,
   "id": "133c5f18-1ea1-4ac7-8ba8-97ce868867c8",
   "metadata": {},
   "outputs": [],
   "source": [
    "# Import Libraries\n",
    "from bs4 import BeautifulSoup\n",
    "import requests\n",
    "import time\n",
    "import datetime\n",
    "\n",
    "import smtplib"
   ]
  },
  {
   "cell_type": "code",
   "execution_count": 8,
   "id": "10827d61-e2bc-4ecc-9135-b3be50ce2cfd",
   "metadata": {},
   "outputs": [
    {
     "name": "stdout",
     "output_type": "stream",
     "text": [
      "Title: Titan Titanium Xylys Quartz Chronograph Black Dial Watch for Men-Ns9295Tm02, Band Color:Black\n",
      "Price: 44,400\n"
     ]
    }
   ],
   "source": [
    "URL = 'https://www.amazon.in/Titan-Analog-Black-Casual-Watch/dp/B0CSZ6DLKP/ref=sr_1_21?dib=eyJ2IjoiMSJ9.IyNNfxAE5zwiEYr_BB5Q2WReSeMZvLmUqONpQPv6RFhgQ5XPOO_jG_WD5I_EiAEDD5UdOhjJbahOsoYPrFlVNUct2SJ_lzODaOCgT-dgWGSMippce-2k9S9WdHyOPUkHZ6PzcCGiqsrhOpvrUB8Rsr8KwP2QLiPLxoRtuJWFG-QGcZBilPlDTQ7t8XSwKUfwDGCHY3gROD5uh4sD0Nw9g04yl6VCy6OvzYFObfHesWMemoEjUgKZKIsP1nGf6A2m5mPcOt-AdFEuUfSqYwhhzH_TyJlTakYt1sW3JpZYv5CcqQpXOpeGvTVZJDmwrU_8.c6koGVfMGuxy9oiVuHHYAjh0NaDrrF_hE6uoj9ZOBKc&dib_tag=se&pf_rd_i=2563504031%2C2563504031%2C2563504031&pf_rd_m=A1VBAL9TL5WCBF%2CA1VBAL9TL5WCBF%2CA1VBAL9TL5WCBF&pf_rd_s=merchandised-search-11%2Cmerchandised-search-11%2Cmobile-hybrid-14&pf_rd_t=30901&qid=1740288927&refinements=p_36%3A2890000-%2Cp_89%3ATitan&rnid=3439816031&s=watches&sr=1-21'\n",
    "headers = {\n",
    "    \"User-Agent\": \"Mozilla/5.0 (Windows NT 10.0; Win64; x64) AppleWebKit/537.36 (KHTML, like Gecko) Chrome/133.0.0.0 Safari/537.36\",\n",
    "    \"Accept-Encoding\": \"gzip, deflate\",\n",
    "    \"Accept\": \"text/html,application/xhtml+xml,application/xml;q=0.9,*/*;q=0.8\",\n",
    "    \"DNT\": \"1\",\n",
    "    \"Connection\": \"close\",\n",
    "    \"Upgrade-Insecure-Requests\": \"1\"\n",
    "}\n",
    "\n",
    "page = requests.get(URL, headers=headers)\n",
    "soup1 = BeautifulSoup(page.content, \"html.parser\")\n",
    "soup2 = BeautifulSoup(soup1.prettify(), \"html.parser\")\n",
    "\n",
    "# Extract the title\n",
    "title = soup2.find(id='productTitle')\n",
    "if title:\n",
    "    title = title.get_text().strip()\n",
    "else:\n",
    "    title = \"Title not found\"\n",
    "\n",
    "# Extract the price\n",
    "price = soup2.find('span', {'class': 'a-price-whole'})  # Updated class name for price\n",
    "if price:\n",
    "    price = price.get_text().strip()\n",
    "else:\n",
    "    price = \"Price not found\"\n",
    "\n",
    "print(\"Title:\", title)\n",
    "print(\"Price:\", price)"
   ]
  },
  {
   "cell_type": "code",
   "execution_count": 9,
   "id": "fd78277a-1092-4c06-b24d-3abcb44da8be",
   "metadata": {},
   "outputs": [
    {
     "name": "stdout",
     "output_type": "stream",
     "text": [
      "Titan Titanium Xylys Quartz Chronograph Black Dial Watch for Men-Ns9295Tm02, Band Color:Black\n",
      "4,400\n"
     ]
    }
   ],
   "source": [
    "# Clean up the data a little bit\n",
    "\n",
    "price = price.strip()[1:]\n",
    "title = title.strip()\n",
    "\n",
    "print(title)\n",
    "print(price)"
   ]
  },
  {
   "cell_type": "code",
   "execution_count": 10,
   "id": "148804c0-82ab-4226-9a49-d7a624763422",
   "metadata": {},
   "outputs": [
    {
     "name": "stdout",
     "output_type": "stream",
     "text": [
      "2025-02-23\n"
     ]
    }
   ],
   "source": [
    "# Create a Timestamp for your output to track when data was collected\n",
    "\n",
    "import datetime\n",
    "\n",
    "today = datetime.date.today()\n",
    "\n",
    "print(today)"
   ]
  },
  {
   "cell_type": "code",
   "execution_count": 15,
   "id": "8a0dbcf4-68b1-4b9d-bc83-1f49c0fd0381",
   "metadata": {},
   "outputs": [],
   "source": [
    "import csv\n",
    "from datetime import datetime\n",
    "\n",
    "# Define the data\n",
    "title = \"Titan Analog Black Casual Watch\"  # Example title\n",
    "price = \"₹2,999\"  # Example price\n",
    "today = datetime.today().strftime('%Y-%m-%d')  # Get today's date in YYYY-MM-DD format\n",
    "\n",
    "# Define the header and data\n",
    "header = ['Title', 'Price', 'Date']\n",
    "data = [title, price, today]\n",
    "\n",
    "# Write to CSV file\n",
    "with open('AmazonWebScraperDataset.csv', 'w', newline='', encoding='UTF8') as f:\n",
    "    writer = csv.writer(f)\n",
    "    writer.writerow(header)  # Write the header\n",
    "    writer.writerow(data)  # Write the data"
   ]
  },
  {
   "cell_type": "code",
   "execution_count": 19,
   "id": "1706e0a9-d9e8-42c8-9b57-0537b2c4ad1c",
   "metadata": {},
   "outputs": [
    {
     "name": "stdout",
     "output_type": "stream",
     "text": [
      "                             Title   Price        Date\n",
      "0  Titan Analog Black Casual Watch  ₹2,999  2025-02-23\n"
     ]
    }
   ],
   "source": [
    "\n",
    "# Import pandas\n",
    "import pandas as pd\n",
    "\n",
    "# Read the CSV file\n",
    "df = pd.read_csv(r'C:\\Users\\Rakesh\\Desktop\\Python 3.12.2\\AmazonWebScraperDataset.csv')\n",
    "\n",
    "# Print the DataFrame\n",
    "print(df)\n"
   ]
  },
  {
   "cell_type": "code",
   "execution_count": 20,
   "id": "3ed514d0-790c-4f92-b3a6-37918e6f5bd3",
   "metadata": {},
   "outputs": [],
   "source": [
    "#Now we are appending data to the csv\n",
    "\n",
    "with open('AmazonWebScraperDataset.csv', 'a+', newline='', encoding='UTF8') as f:\n",
    "    writer = csv.writer(f)\n",
    "    writer.writerow(data)"
   ]
  },
  {
   "cell_type": "code",
   "execution_count": null,
   "id": "b3a5c7b6-26d2-4b51-824a-ee8fd0a9936d",
   "metadata": {},
   "outputs": [],
   "source": [
    "#Combine all of the above code into one function\n",
    "def check_price():\n",
    "    URL = 'https://www.amazon.in/Titan-Analog-Black-Casual-Watch/dp/B0CSZ6DLKP/ref=sr_1_21?dib=eyJ2IjoiMSJ9.IyNNfxAE5zwiEYr_BB5Q2WReSeMZvLmUqONpQPv6RFhgQ5XPOO_jG_WD5I_EiAEDD5UdOhjJbahOsoYPrFlVNUct2SJ_lzODaOCgT-dgWGSMippce-2k9S9WdHyOPUkHZ6PzcCGiqsrhOpvrUB8Rsr8KwP2QLiPLxoRtuJWFG-QGcZBilPlDTQ7t8XSwKUfwDGCHY3gROD5uh4sD0Nw9g04yl6VCy6OvzYFObfHesWMemoEjUgKZKIsP1nGf6A2m5mPcOt-AdFEuUfSqYwhhzH_TyJlTakYt1sW3JpZYv5CcqQpXOpeGvTVZJDmwrU_8.c6koGVfMGuxy9oiVuHHYAjh0NaDrrF_hE6uoj9ZOBKc&dib_tag=se&pf_rd_i=2563504031%2C2563504031%2C2563504031&pf_rd_m=A1VBAL9TL5WCBF%2CA1VBAL9TL5WCBF%2CA1VBAL9TL5WCBF&pf_rd_s=merchandised-search-11%2Cmerchandised-search-11%2Cmobile-hybrid-14&pf_rd_t=30901&qid=1740288927&refinements=p_36%3A2890000-%2Cp_89%3ATitan&rnid=3439816031&s=watches&sr=1-21'\n",
    "headers = {\n",
    "    \"User-Agent\": \"Mozilla/5.0 (Windows NT 10.0; Win64; x64) AppleWebKit/537.36 (KHTML, like Gecko) Chrome/133.0.0.0 Safari/537.36\",\n",
    "    \"Accept-Encoding\": \"gzip, deflate\",\n",
    "    \"Accept\": \"text/html,application/xhtml+xml,application/xml;q=0.9,*/*;q=0.8\",\n",
    "    \"DNT\": \"1\",\n",
    "    \"Connection\": \"close\",\n",
    "    \"Upgrade-Insecure-Requests\": \"1\"\n",
    "}\n",
    "\n",
    "page = requests.get(URL, headers=headers)\n",
    "soup1 = BeautifulSoup(page.content, \"html.parser\")\n",
    "soup2 = BeautifulSoup(soup1.prettify(), \"html.parser\")\n",
    "\n",
    "# Extract the title\n",
    "title = soup2.find(id='productTitle')\n",
    "if title:\n",
    "    title = title.get_text().strip()\n",
    "else:\n",
    "    title = \"Title not found\"\n",
    "\n",
    "# Extract the price\n",
    "price = soup2.find('span', {'class': 'a-price-whole'})  # Updated class name for price\n",
    "if price:\n",
    "    price = price.get_text().strip()\n",
    "else:\n",
    "    price = \"Price not found\"\n",
    "\n",
    "print(\"Title:\", title)\n",
    "print(\"Price:\", price)\n",
    "\n",
    "# Import datetime & csv\n",
    "import datetime\n",
    "import csv\n",
    "\n",
    "# Define the data\n",
    "today = datetime.date.today()  # Get today's date\n",
    "\n",
    "#Define the header and data\n",
    "header = ['Title', 'Price', 'Date']\n",
    "data = [title, price, today]\n",
    "\n",
    "# Open the file in append mode\n",
    "with open('AmazonWebScraperDataset.csv', 'a+', newline='', encoding='UTF8') as f:\n",
    "    writer = csv.writer(f)\n",
    "    \n",
    "    # Move the file pointer to the beginning to check if the file is empty\n",
    "    f.seek(0)\n",
    "    first_line = f.readline().strip()\n",
    "    \n",
    "    # If the file is empty or doesn't exist, write the header\n",
    "    if not first_line:\n",
    "        writer.writerow(header)\n",
    "    \n",
    "    # Write the data\n",
    "    writer.writerow(data)\n"
   ]
  },
  {
   "cell_type": "code",
   "execution_count": null,
   "id": "1b385ce9-6527-475b-add9-cc9acc56e3f8",
   "metadata": {},
   "outputs": [],
   "source": [
    "# Runs check_price after a set time and inputs data into your CSV\n",
    "\n",
    "while(True):\n",
    "    check_price()\n",
    "    time.sleep(86400)"
   ]
  },
  {
   "cell_type": "code",
   "execution_count": null,
   "id": "0847e3d3-f7e2-48f4-9d61-a2c94259185b",
   "metadata": {},
   "outputs": [],
   "source": [
    "import pandas as pd\n",
    "\n",
    "df = pd.read_csv(r'C:\\Users\\Rakesh\\Desktop\\Python 3.12.2\\AmazonWebScraperDataset.csv')\n",
    "print(df)\n"
   ]
  },
  {
   "cell_type": "code",
   "execution_count": null,
   "id": "05af7fd2-dda8-4443-874b-e473f2bd3061",
   "metadata": {},
   "outputs": [],
   "source": []
  }
 ],
 "metadata": {
  "kernelspec": {
   "display_name": "Python 3 (ipykernel)",
   "language": "python",
   "name": "python3"
  },
  "language_info": {
   "codemirror_mode": {
    "name": "ipython",
    "version": 3
   },
   "file_extension": ".py",
   "mimetype": "text/x-python",
   "name": "python",
   "nbconvert_exporter": "python",
   "pygments_lexer": "ipython3",
   "version": "3.13.2"
  }
 },
 "nbformat": 4,
 "nbformat_minor": 5
}
